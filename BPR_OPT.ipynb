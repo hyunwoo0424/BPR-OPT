{
  "cells": [
    {
      "cell_type": "markdown",
      "metadata": {
        "id": "CDjwl-pVBzN5"
      },
      "source": [
        "# 학습 설정"
      ]
    },
    {
      "cell_type": "code",
      "execution_count": 1,
      "metadata": {
        "id": "E7looehYB0p6"
      },
      "outputs": [],
      "source": [
        "config = {\n",
        "    'top_k' : 10,\n",
        "    'epochs' : 30,\n",
        "    'lr' : 0.001,\n",
        "    'batch_size' : 256,\n",
        "    'k' : 64,\n",
        "    'reg' : 1e-5,\n",
        "    'neg_samples' : 3,\n",
        "}"
      ]
    },
    {
      "cell_type": "code",
      "execution_count": null,
      "metadata": {
        "colab": {
          "base_uri": "https://localhost:8080/"
        },
        "id": "SiK09A9vCkY7",
        "outputId": "d786d13a-b9a1-49ea-ea44-c23a301408d1"
      },
      "outputs": [
        {
          "name": "stdout",
          "output_type": "stream",
          "text": [
            "Collecting python-box\n",
            "  Downloading python_box-7.0.1-cp310-cp310-manylinux_2_5_x86_64.manylinux1_x86_64.manylinux_2_12_x86_64.manylinux2010_x86_64.whl (3.2 MB)\n",
            "\u001b[2K     \u001b[90m━━━━━━━━━━━━━━━━━━━━━━━━━━━━━━━━━━━━━━━━\u001b[0m \u001b[32m3.2/3.2 MB\u001b[0m \u001b[31m10.7 MB/s\u001b[0m eta \u001b[36m0:00:00\u001b[0m\n",
            "\u001b[?25hInstalling collected packages: python-box\n",
            "Successfully installed python-box-7.0.1\n"
          ]
        }
      ],
      "source": [
        "!pip install python-box\n",
        "from box import Box\n",
        "config = Box(config)"
      ]
    },
    {
      "cell_type": "code",
      "execution_count": null,
      "metadata": {
        "id": "JCmJNkVeCkjo"
      },
      "outputs": [],
      "source": []
    },
    {
      "cell_type": "markdown",
      "metadata": {
        "id": "VpbBdTBiB07r"
      },
      "source": [
        "# 데이터 전처리\n",
        "데이터 셋 다운로드\n",
        "- https://www.kaggle.com/datasets/rajmehra03/movielens100k"
      ]
    },
    {
      "cell_type": "code",
      "execution_count": null,
      "metadata": {
        "colab": {
          "base_uri": "https://localhost:8080/"
        },
        "id": "4c4_Y9CfB1nh",
        "outputId": "b0bf47fe-f5b6-4c40-86dd-05c1cb4f4481"
      },
      "outputs": [
        {
          "name": "stdout",
          "output_type": "stream",
          "text": [
            "/content/drive/MyDrive/RecSys/data/MovieLens-100k\n"
          ]
        }
      ],
      "source": [
        "%cd '/content/drive/MyDrive/RecSys/data/MovieLens-100k'"
      ]
    },
    {
      "cell_type": "code",
      "execution_count": null,
      "metadata": {
        "id": "GNpcq7RjCk_N"
      },
      "outputs": [],
      "source": [
        "import pandas as pd\n",
        "import numpy as np\n",
        "import random\n",
        "import time\n",
        "from tqdm import tqdm\n",
        "\n",
        "import torch\n",
        "import torch.nn as nn\n",
        "from torch.utils.data import Dataset, DataLoader"
      ]
    },
    {
      "cell_type": "code",
      "execution_count": null,
      "metadata": {
        "id": "mDts-9wvClHQ"
      },
      "outputs": [],
      "source": [
        "data = pd.read_csv('ratings.csv')"
      ]
    },
    {
      "cell_type": "code",
      "execution_count": null,
      "metadata": {
        "colab": {
          "base_uri": "https://localhost:8080/",
          "height": 206
        },
        "id": "_p6YJuuJD8-3",
        "outputId": "314320fb-de66-455e-8ea2-8eb18d184834"
      },
      "outputs": [
        {
          "data": {
            "text/html": [
              "\n",
              "  <div id=\"df-696d0795-a5a2-4d30-9af3-6c644953da15\" class=\"colab-df-container\">\n",
              "    <div>\n",
              "<style scoped>\n",
              "    .dataframe tbody tr th:only-of-type {\n",
              "        vertical-align: middle;\n",
              "    }\n",
              "\n",
              "    .dataframe tbody tr th {\n",
              "        vertical-align: top;\n",
              "    }\n",
              "\n",
              "    .dataframe thead th {\n",
              "        text-align: right;\n",
              "    }\n",
              "</style>\n",
              "<table border=\"1\" class=\"dataframe\">\n",
              "  <thead>\n",
              "    <tr style=\"text-align: right;\">\n",
              "      <th></th>\n",
              "      <th>userId</th>\n",
              "      <th>movieId</th>\n",
              "      <th>rating</th>\n",
              "      <th>timestamp</th>\n",
              "    </tr>\n",
              "  </thead>\n",
              "  <tbody>\n",
              "    <tr>\n",
              "      <th>0</th>\n",
              "      <td>1</td>\n",
              "      <td>31</td>\n",
              "      <td>2.5</td>\n",
              "      <td>1260759144</td>\n",
              "    </tr>\n",
              "    <tr>\n",
              "      <th>1</th>\n",
              "      <td>1</td>\n",
              "      <td>1029</td>\n",
              "      <td>3.0</td>\n",
              "      <td>1260759179</td>\n",
              "    </tr>\n",
              "    <tr>\n",
              "      <th>2</th>\n",
              "      <td>1</td>\n",
              "      <td>1061</td>\n",
              "      <td>3.0</td>\n",
              "      <td>1260759182</td>\n",
              "    </tr>\n",
              "    <tr>\n",
              "      <th>3</th>\n",
              "      <td>1</td>\n",
              "      <td>1129</td>\n",
              "      <td>2.0</td>\n",
              "      <td>1260759185</td>\n",
              "    </tr>\n",
              "    <tr>\n",
              "      <th>4</th>\n",
              "      <td>1</td>\n",
              "      <td>1172</td>\n",
              "      <td>4.0</td>\n",
              "      <td>1260759205</td>\n",
              "    </tr>\n",
              "  </tbody>\n",
              "</table>\n",
              "</div>\n",
              "    <div class=\"colab-df-buttons\">\n",
              "\n",
              "  <div class=\"colab-df-container\">\n",
              "    <button class=\"colab-df-convert\" onclick=\"convertToInteractive('df-696d0795-a5a2-4d30-9af3-6c644953da15')\"\n",
              "            title=\"Convert this dataframe to an interactive table.\"\n",
              "            style=\"display:none;\">\n",
              "\n",
              "  <svg xmlns=\"http://www.w3.org/2000/svg\" height=\"24px\" viewBox=\"0 -960 960 960\">\n",
              "    <path d=\"M120-120v-720h720v720H120Zm60-500h600v-160H180v160Zm220 220h160v-160H400v160Zm0 220h160v-160H400v160ZM180-400h160v-160H180v160Zm440 0h160v-160H620v160ZM180-180h160v-160H180v160Zm440 0h160v-160H620v160Z\"/>\n",
              "  </svg>\n",
              "    </button>\n",
              "\n",
              "  <style>\n",
              "    .colab-df-container {\n",
              "      display:flex;\n",
              "      gap: 12px;\n",
              "    }\n",
              "\n",
              "    .colab-df-convert {\n",
              "      background-color: #E8F0FE;\n",
              "      border: none;\n",
              "      border-radius: 50%;\n",
              "      cursor: pointer;\n",
              "      display: none;\n",
              "      fill: #1967D2;\n",
              "      height: 32px;\n",
              "      padding: 0 0 0 0;\n",
              "      width: 32px;\n",
              "    }\n",
              "\n",
              "    .colab-df-convert:hover {\n",
              "      background-color: #E2EBFA;\n",
              "      box-shadow: 0px 1px 2px rgba(60, 64, 67, 0.3), 0px 1px 3px 1px rgba(60, 64, 67, 0.15);\n",
              "      fill: #174EA6;\n",
              "    }\n",
              "\n",
              "    .colab-df-buttons div {\n",
              "      margin-bottom: 4px;\n",
              "    }\n",
              "\n",
              "    [theme=dark] .colab-df-convert {\n",
              "      background-color: #3B4455;\n",
              "      fill: #D2E3FC;\n",
              "    }\n",
              "\n",
              "    [theme=dark] .colab-df-convert:hover {\n",
              "      background-color: #434B5C;\n",
              "      box-shadow: 0px 1px 3px 1px rgba(0, 0, 0, 0.15);\n",
              "      filter: drop-shadow(0px 1px 2px rgba(0, 0, 0, 0.3));\n",
              "      fill: #FFFFFF;\n",
              "    }\n",
              "  </style>\n",
              "\n",
              "    <script>\n",
              "      const buttonEl =\n",
              "        document.querySelector('#df-696d0795-a5a2-4d30-9af3-6c644953da15 button.colab-df-convert');\n",
              "      buttonEl.style.display =\n",
              "        google.colab.kernel.accessAllowed ? 'block' : 'none';\n",
              "\n",
              "      async function convertToInteractive(key) {\n",
              "        const element = document.querySelector('#df-696d0795-a5a2-4d30-9af3-6c644953da15');\n",
              "        const dataTable =\n",
              "          await google.colab.kernel.invokeFunction('convertToInteractive',\n",
              "                                                    [key], {});\n",
              "        if (!dataTable) return;\n",
              "\n",
              "        const docLinkHtml = 'Like what you see? Visit the ' +\n",
              "          '<a target=\"_blank\" href=https://colab.research.google.com/notebooks/data_table.ipynb>data table notebook</a>'\n",
              "          + ' to learn more about interactive tables.';\n",
              "        element.innerHTML = '';\n",
              "        dataTable['output_type'] = 'display_data';\n",
              "        await google.colab.output.renderOutput(dataTable, element);\n",
              "        const docLink = document.createElement('div');\n",
              "        docLink.innerHTML = docLinkHtml;\n",
              "        element.appendChild(docLink);\n",
              "      }\n",
              "    </script>\n",
              "  </div>\n",
              "\n",
              "\n",
              "<div id=\"df-e98515d8-2737-48fc-8cb4-38207fb1e2fa\">\n",
              "  <button class=\"colab-df-quickchart\" onclick=\"quickchart('df-e98515d8-2737-48fc-8cb4-38207fb1e2fa')\"\n",
              "            title=\"Suggest charts.\"\n",
              "            style=\"display:none;\">\n",
              "\n",
              "<svg xmlns=\"http://www.w3.org/2000/svg\" height=\"24px\"viewBox=\"0 0 24 24\"\n",
              "     width=\"24px\">\n",
              "    <g>\n",
              "        <path d=\"M19 3H5c-1.1 0-2 .9-2 2v14c0 1.1.9 2 2 2h14c1.1 0 2-.9 2-2V5c0-1.1-.9-2-2-2zM9 17H7v-7h2v7zm4 0h-2V7h2v10zm4 0h-2v-4h2v4z\"/>\n",
              "    </g>\n",
              "</svg>\n",
              "  </button>\n",
              "\n",
              "<style>\n",
              "  .colab-df-quickchart {\n",
              "    background-color: #E8F0FE;\n",
              "    border: none;\n",
              "    border-radius: 50%;\n",
              "    cursor: pointer;\n",
              "    display: none;\n",
              "    fill: #1967D2;\n",
              "    height: 32px;\n",
              "    padding: 0 0 0 0;\n",
              "    width: 32px;\n",
              "  }\n",
              "\n",
              "  .colab-df-quickchart:hover {\n",
              "    background-color: #E2EBFA;\n",
              "    box-shadow: 0px 1px 2px rgba(60, 64, 67, 0.3), 0px 1px 3px 1px rgba(60, 64, 67, 0.15);\n",
              "    fill: #174EA6;\n",
              "  }\n",
              "\n",
              "  [theme=dark] .colab-df-quickchart {\n",
              "    background-color: #3B4455;\n",
              "    fill: #D2E3FC;\n",
              "  }\n",
              "\n",
              "  [theme=dark] .colab-df-quickchart:hover {\n",
              "    background-color: #434B5C;\n",
              "    box-shadow: 0px 1px 3px 1px rgba(0, 0, 0, 0.15);\n",
              "    filter: drop-shadow(0px 1px 2px rgba(0, 0, 0, 0.3));\n",
              "    fill: #FFFFFF;\n",
              "  }\n",
              "</style>\n",
              "\n",
              "  <script>\n",
              "    async function quickchart(key) {\n",
              "      const charts = await google.colab.kernel.invokeFunction(\n",
              "          'suggestCharts', [key], {});\n",
              "    }\n",
              "    (() => {\n",
              "      let quickchartButtonEl =\n",
              "        document.querySelector('#df-e98515d8-2737-48fc-8cb4-38207fb1e2fa button');\n",
              "      quickchartButtonEl.style.display =\n",
              "        google.colab.kernel.accessAllowed ? 'block' : 'none';\n",
              "    })();\n",
              "  </script>\n",
              "</div>\n",
              "    </div>\n",
              "  </div>\n"
            ],
            "text/plain": [
              "   userId  movieId  rating   timestamp\n",
              "0       1       31     2.5  1260759144\n",
              "1       1     1029     3.0  1260759179\n",
              "2       1     1061     3.0  1260759182\n",
              "3       1     1129     2.0  1260759185\n",
              "4       1     1172     4.0  1260759205"
            ]
          },
          "execution_count": 6,
          "metadata": {},
          "output_type": "execute_result"
        }
      ],
      "source": [
        "data.head()"
      ]
    },
    {
      "cell_type": "code",
      "execution_count": null,
      "metadata": {
        "id": "0ML-KWOTD9BZ"
      },
      "outputs": [],
      "source": [
        "user_encoder = {id:idx for idx, id in enumerate(data['userId'].unique())}\n",
        "user_decoder = {idx:id for id, idx in user_encoder.items()}\n",
        "\n",
        "item_encoder = {id:idx for idx, id in enumerate(data['movieId'].unique())}\n",
        "item_decoder = {idx:id for id, idx in item_encoder.items()}"
      ]
    },
    {
      "cell_type": "code",
      "execution_count": null,
      "metadata": {
        "id": "-_hxqo-GEj08"
      },
      "outputs": [],
      "source": [
        "data['userId'] = data['userId'].apply(lambda x : user_encoder[x])\n",
        "data['movieId'] = data['movieId'].apply(lambda x : item_encoder[x])"
      ]
    },
    {
      "cell_type": "code",
      "execution_count": null,
      "metadata": {
        "id": "kCdeb_eCEj3Z"
      },
      "outputs": [],
      "source": [
        "num_users = len(user_encoder)\n",
        "num_items = len(item_encoder)\n",
        "all_items = [i for i in range(num_items)]\n",
        "\n",
        "user_neg_candidate = {}\n",
        "for user_id in data['userId'].unique():\n",
        "  movieId_list = data[data['userId'] == user_id]['movieId'].tolist()\n",
        "  user_neg_candidate[user_id] = list(set(all_items) - set(movieId_list))"
      ]
    },
    {
      "cell_type": "code",
      "execution_count": null,
      "metadata": {
        "id": "W_NQGtx5Ej5Z"
      },
      "outputs": [],
      "source": [
        "user_id_list = data['userId'].unique()\n",
        "\n",
        "train_set_item = []\n",
        "train_set_user = []\n",
        "train_set_target = []\n",
        "\n",
        "test_set_item = []\n",
        "test_set_user = []\n",
        "test_set_target = []\n",
        "\n",
        "for user_id in user_id_list:\n",
        "  user_df = data[data['userId'] == user_id].sort_values('timestamp')\n",
        "  movieId_list = user_df['movieId'].tolist()\n",
        "\n",
        "  train_item = movieId_list[:-1]\n",
        "  train_user = [user_id] * len(train_item)\n",
        "  train_target = [1] * len(train_item)\n",
        "\n",
        "  test_item = [movieId_list[-1]] + np.random.choice(user_neg_candidate[user_id], 99, replace = False).tolist()\n",
        "  test_user = [user_id] * len(test_item)\n",
        "  test_target = [1] + [0] * (len(test_item) - 1)\n",
        "\n",
        "  train_set_item += train_item\n",
        "  train_set_user += train_user\n",
        "  train_set_target += train_target\n",
        "\n",
        "  test_set_item += test_item\n",
        "  test_set_user += test_user\n",
        "  test_set_target += test_target"
      ]
    },
    {
      "cell_type": "code",
      "execution_count": null,
      "metadata": {
        "id": "9F41U4UGEj7u"
      },
      "outputs": [],
      "source": [
        "class CustomDataset(Dataset):\n",
        "  def __init__(self, set_user, set_item, set_target):\n",
        "    self.set_user = set_user\n",
        "    self.set_item = set_item\n",
        "    self.set_target = set_target\n",
        "\n",
        "  def __len__(self):\n",
        "    return len(self.set_user)\n",
        "\n",
        "  def __getitem__(self, idx) :\n",
        "    user = self.set_user[idx]\n",
        "    item = self.set_item[idx]\n",
        "    target = self.set_target[idx]\n",
        "\n",
        "    return user, item, target"
      ]
    },
    {
      "cell_type": "code",
      "execution_count": null,
      "metadata": {
        "id": "YW92xqKjH8L8"
      },
      "outputs": [],
      "source": [
        "train_dataset = CustomDataset(set_user = train_set_user, set_item = train_set_item, set_target = train_set_target)\n",
        "train_loader = DataLoader(train_dataset, batch_size = config.batch_size, shuffle = True, drop_last = False)\n",
        "\n",
        "test_dataset = CustomDataset(set_user = test_set_user, set_item = test_set_item, set_target = test_set_target)\n",
        "test_loader = DataLoader(test_dataset, batch_size = config.batch_size, shuffle = False, drop_last = False)"
      ]
    },
    {
      "cell_type": "markdown",
      "metadata": {
        "id": "R-HNgyVjB16I"
      },
      "source": [
        "# 모델"
      ]
    },
    {
      "cell_type": "code",
      "execution_count": null,
      "metadata": {
        "id": "iaUIgfd2B2qD"
      },
      "outputs": [],
      "source": [
        "def metrics(model, test_loader, top_k) :\n",
        "  model.eval()\n",
        "  recall = []\n",
        "  ndcg = []\n",
        "\n",
        "  with torch.no_grad():\n",
        "    for user, item, _ in test_loader:\n",
        "      user = user.to(device)\n",
        "      item = item.to(device)\n",
        "\n",
        "      pred = model(user, item)\n",
        "      _, indices = torch.topk(pred, top_k)\n",
        "      pred_item = torch.take(item, indices).cpu().numpy().tolist()\n",
        "      target_item = item[0].item()\n",
        "\n",
        "      if target_item in pred_item:\n",
        "        recall.append(1)\n",
        "\n",
        "        idx = pred_item.index(target_item)\n",
        "        ndcg.append(np.reciprocal(np.log1p(idx+1)))\n",
        "\n",
        "      else:\n",
        "        recall.append(0)\n",
        "        ndcg.append(0)\n",
        "\n",
        "  return np.mean(recall), np.mean(ndcg)"
      ]
    },
    {
      "cell_type": "code",
      "execution_count": null,
      "metadata": {
        "id": "oRt6ojM8Clkn"
      },
      "outputs": [],
      "source": [
        "class BPR_loss(nn.Module):\n",
        "  def __init__(self):\n",
        "    super(BPR_loss, self).__init__()\n",
        "\n",
        "  def forward(self, pos, neg) :\n",
        "    bpr_loss = - torch.mean(torch.log(torch.sigmoid(pos - neg)))\n",
        "    return bpr_loss"
      ]
    },
    {
      "cell_type": "code",
      "execution_count": null,
      "metadata": {
        "id": "8VX1l_XFLjq1"
      },
      "outputs": [],
      "source": [
        "class MF(nn.Module):\n",
        "  def __init__(self, num_user, num_item, k) :\n",
        "    super(MF, self).__init__()\n",
        "    self.user_emb = nn.Embedding(num_user, k)\n",
        "    self.item_emb = nn.Embedding(num_item, k)\n",
        "\n",
        "    self.predict_layer = nn.Sequential(nn.Linear(k, 1, bias = False))\n",
        "    self._init_weight_()\n",
        "\n",
        "  def _init_weight_(self):\n",
        "    nn.init.normal_(self.user_emb.weight, std = 0.01)\n",
        "    nn.init.normal_(self.item_emb.weight, std = 0.01)\n",
        "    for l in self.predict_layer:\n",
        "      nn.init.xavier_uniform_(l.weight)\n",
        "\n",
        "  def forward(self, user, item):\n",
        "    user_emb = self.user_emb(user)\n",
        "    item_emb = self.item_emb(item)\n",
        "\n",
        "    ouput = self.predict_layer(user_emb * item_emb)\n",
        "    return ouput.view(-1)"
      ]
    },
    {
      "cell_type": "markdown",
      "metadata": {
        "id": "QjRBeYpVB25x"
      },
      "source": [
        "# 학습"
      ]
    },
    {
      "cell_type": "code",
      "execution_count": null,
      "metadata": {
        "id": "bREybC_SB3f3"
      },
      "outputs": [],
      "source": [
        "device = torch.device('cuda:0') if torch.cuda.is_available() else torch.device('cpu')"
      ]
    },
    {
      "cell_type": "code",
      "execution_count": null,
      "metadata": {
        "id": "bdhpnhWeCmIM"
      },
      "outputs": [],
      "source": [
        "import copy\n",
        "mf_model = MF(num_user = num_users, num_item = num_items, k = config.k)\n",
        "\n",
        "model = copy.deepcopy(mf_model).to(device)\n",
        "bpr_model = copy.deepcopy(mf_model).to(device)\n",
        "\n",
        "optimizer = torch.optim.Adam(model.parameters(), lr = config.lr)\n",
        "bpr_optimizer = torch.optim.Adam(bpr_model.parameters(), lr = config.lr)\n",
        "\n",
        "loss_func = nn.BCELoss()\n",
        "bpr_loss_func = BPR_loss()"
      ]
    },
    {
      "cell_type": "code",
      "execution_count": null,
      "metadata": {
        "id": "JYKApJ09O4o8"
      },
      "outputs": [],
      "source": [
        "def get_neg_samples(n, user_id_list):\n",
        "  neg_samples_user = []\n",
        "  neg_samples_item = []\n",
        "\n",
        "  for user in user_id_list :\n",
        "    u_neg_candidate = user_neg_candidate[user]\n",
        "    for _ in range(n) :\n",
        "      neg_samples_item.append(u_neg_candidate[np.random.randint(len(u_neg_candidate))])\n",
        "      neg_samples_user.append(user)\n",
        "\n",
        "  return neg_samples_user, neg_samples_item"
      ]
    },
    {
      "cell_type": "code",
      "execution_count": null,
      "metadata": {
        "colab": {
          "base_uri": "https://localhost:8080/"
        },
        "id": "2RXpXeUbCmKr",
        "outputId": "7fc8b496-c1c9-4f53-c614-5db14b2ac310"
      },
      "outputs": [
        {
          "name": "stderr",
          "output_type": "stream",
          "text": [
            "\r  0%|          | 0/30 [00:00<?, ?it/s]<ipython-input-19-234d35276e88>:23: UserWarning: To copy construct from a tensor, it is recommended to use sourceTensor.clone().detach() or sourceTensor.clone().detach().requires_grad_(True), rather than torch.tensor(sourceTensor).\n",
            "  all_user = torch.cat([user, torch.tensor(neg_user)])\n",
            "<ipython-input-19-234d35276e88>:24: UserWarning: To copy construct from a tensor, it is recommended to use sourceTensor.clone().detach() or sourceTensor.clone().detach().requires_grad_(True), rather than torch.tensor(sourceTensor).\n",
            "  all_item = torch.cat([item, torch.tensor(neg_item)])\n",
            "<ipython-input-19-234d35276e88>:25: UserWarning: To copy construct from a tensor, it is recommended to use sourceTensor.clone().detach() or sourceTensor.clone().detach().requires_grad_(True), rather than torch.tensor(sourceTensor).\n",
            "  all_target = torch.cat([target, torch.tensor(neg_target)])\n",
            "  3%|▎         | 1/30 [00:10<05:13, 10.83s/it]"
          ]
        },
        {
          "name": "stdout",
          "output_type": "stream",
          "text": [
            "[EPOCH : 1, Non-BPR Loss : 0.6104, BPR Train Loss: 0.5759]\n"
          ]
        },
        {
          "name": "stderr",
          "output_type": "stream",
          "text": [
            "\r  7%|▋         | 2/30 [00:18<04:19,  9.26s/it]"
          ]
        },
        {
          "name": "stdout",
          "output_type": "stream",
          "text": [
            "[EPOCH : 2, Non-BPR Loss : 0.3839, BPR Train Loss: 0.2966]\n"
          ]
        },
        {
          "name": "stderr",
          "output_type": "stream",
          "text": [
            "\r 10%|█         | 3/30 [00:27<04:00,  8.91s/it]"
          ]
        },
        {
          "name": "stdout",
          "output_type": "stream",
          "text": [
            "[EPOCH : 3, Non-BPR Loss : 0.3492, BPR Train Loss: 0.2435]\n"
          ]
        },
        {
          "name": "stderr",
          "output_type": "stream",
          "text": [
            "\r 13%|█▎        | 4/30 [00:34<03:32,  8.19s/it]"
          ]
        },
        {
          "name": "stdout",
          "output_type": "stream",
          "text": [
            "[EPOCH : 4, Non-BPR Loss : 0.3206, BPR Train Loss: 0.2079]\n"
          ]
        },
        {
          "name": "stderr",
          "output_type": "stream",
          "text": [
            "\r 17%|█▋        | 5/30 [00:43<03:31,  8.46s/it]"
          ]
        },
        {
          "name": "stdout",
          "output_type": "stream",
          "text": [
            "[EPOCH : 5, Non-BPR Loss : 0.2931, BPR Train Loss: 0.1808]\n"
          ]
        },
        {
          "name": "stderr",
          "output_type": "stream",
          "text": [
            "\r 20%|██        | 6/30 [00:51<03:15,  8.16s/it]"
          ]
        },
        {
          "name": "stdout",
          "output_type": "stream",
          "text": [
            "[EPOCH : 6, Non-BPR Loss : 0.2731, BPR Train Loss: 0.1594]\n"
          ]
        },
        {
          "name": "stderr",
          "output_type": "stream",
          "text": [
            "\r 23%|██▎       | 7/30 [00:59<03:10,  8.30s/it]"
          ]
        },
        {
          "name": "stdout",
          "output_type": "stream",
          "text": [
            "[EPOCH : 7, Non-BPR Loss : 0.2521, BPR Train Loss: 0.1392]\n"
          ]
        },
        {
          "name": "stderr",
          "output_type": "stream",
          "text": [
            "\r 27%|██▋       | 8/30 [01:08<03:07,  8.51s/it]"
          ]
        },
        {
          "name": "stdout",
          "output_type": "stream",
          "text": [
            "[EPOCH : 8, Non-BPR Loss : 0.2337, BPR Train Loss: 0.1212]\n"
          ]
        },
        {
          "name": "stderr",
          "output_type": "stream",
          "text": [
            "\r 30%|███       | 9/30 [01:16<02:55,  8.36s/it]"
          ]
        },
        {
          "name": "stdout",
          "output_type": "stream",
          "text": [
            "[EPOCH : 9, Non-BPR Loss : 0.2151, BPR Train Loss: 0.1068]\n"
          ]
        },
        {
          "name": "stderr",
          "output_type": "stream",
          "text": [
            "\r 33%|███▎      | 10/30 [01:24<02:46,  8.32s/it]"
          ]
        },
        {
          "name": "stdout",
          "output_type": "stream",
          "text": [
            "[EPOCH : 10, Non-BPR Loss : 0.1968, BPR Train Loss: 0.0941]\n"
          ]
        },
        {
          "name": "stderr",
          "output_type": "stream",
          "text": [
            "\r 37%|███▋      | 11/30 [01:31<02:30,  7.93s/it]"
          ]
        },
        {
          "name": "stdout",
          "output_type": "stream",
          "text": [
            "[EPOCH : 11, Non-BPR Loss : 0.1795, BPR Train Loss: 0.0833]\n"
          ]
        },
        {
          "name": "stderr",
          "output_type": "stream",
          "text": [
            "\r 40%|████      | 12/30 [01:40<02:27,  8.18s/it]"
          ]
        },
        {
          "name": "stdout",
          "output_type": "stream",
          "text": [
            "[EPOCH : 12, Non-BPR Loss : 0.1633, BPR Train Loss: 0.0733]\n"
          ]
        },
        {
          "name": "stderr",
          "output_type": "stream",
          "text": [
            "\r 43%|████▎     | 13/30 [01:47<02:14,  7.91s/it]"
          ]
        },
        {
          "name": "stdout",
          "output_type": "stream",
          "text": [
            "[EPOCH : 13, Non-BPR Loss : 0.1481, BPR Train Loss: 0.0650]\n"
          ]
        },
        {
          "name": "stderr",
          "output_type": "stream",
          "text": [
            "\r 47%|████▋     | 14/30 [01:55<02:05,  7.84s/it]"
          ]
        },
        {
          "name": "stdout",
          "output_type": "stream",
          "text": [
            "[EPOCH : 14, Non-BPR Loss : 0.1350, BPR Train Loss: 0.0584]\n"
          ]
        },
        {
          "name": "stderr",
          "output_type": "stream",
          "text": [
            "\r 50%|█████     | 15/30 [02:03<01:56,  7.78s/it]"
          ]
        },
        {
          "name": "stdout",
          "output_type": "stream",
          "text": [
            "[EPOCH : 15, Non-BPR Loss : 0.1230, BPR Train Loss: 0.0530]\n"
          ]
        },
        {
          "name": "stderr",
          "output_type": "stream",
          "text": [
            "\r 53%|█████▎    | 16/30 [02:11<01:48,  7.76s/it]"
          ]
        },
        {
          "name": "stdout",
          "output_type": "stream",
          "text": [
            "[EPOCH : 16, Non-BPR Loss : 0.1113, BPR Train Loss: 0.0466]\n"
          ]
        },
        {
          "name": "stderr",
          "output_type": "stream",
          "text": [
            "\r 57%|█████▋    | 17/30 [02:19<01:42,  7.88s/it]"
          ]
        },
        {
          "name": "stdout",
          "output_type": "stream",
          "text": [
            "[EPOCH : 17, Non-BPR Loss : 0.1027, BPR Train Loss: 0.0430]\n"
          ]
        },
        {
          "name": "stderr",
          "output_type": "stream",
          "text": [
            "\r 60%|██████    | 18/30 [02:26<01:33,  7.77s/it]"
          ]
        },
        {
          "name": "stdout",
          "output_type": "stream",
          "text": [
            "[EPOCH : 18, Non-BPR Loss : 0.0933, BPR Train Loss: 0.0391]\n"
          ]
        },
        {
          "name": "stderr",
          "output_type": "stream",
          "text": [
            "\r 63%|██████▎   | 19/30 [02:34<01:26,  7.88s/it]"
          ]
        },
        {
          "name": "stdout",
          "output_type": "stream",
          "text": [
            "[EPOCH : 19, Non-BPR Loss : 0.0849, BPR Train Loss: 0.0356]\n"
          ]
        },
        {
          "name": "stderr",
          "output_type": "stream",
          "text": [
            "\r 67%|██████▋   | 20/30 [02:41<01:15,  7.56s/it]"
          ]
        },
        {
          "name": "stdout",
          "output_type": "stream",
          "text": [
            "[EPOCH : 20, Non-BPR Loss : 0.0774, BPR Train Loss: 0.0318]\n"
          ]
        },
        {
          "name": "stderr",
          "output_type": "stream",
          "text": [
            "\r 70%|███████   | 21/30 [02:50<01:10,  7.86s/it]"
          ]
        },
        {
          "name": "stdout",
          "output_type": "stream",
          "text": [
            "[EPOCH : 21, Non-BPR Loss : 0.0716, BPR Train Loss: 0.0294]\n"
          ]
        },
        {
          "name": "stderr",
          "output_type": "stream",
          "text": [
            "\r 73%|███████▎  | 22/30 [02:57<01:01,  7.68s/it]"
          ]
        },
        {
          "name": "stdout",
          "output_type": "stream",
          "text": [
            "[EPOCH : 22, Non-BPR Loss : 0.0667, BPR Train Loss: 0.0272]\n"
          ]
        },
        {
          "name": "stderr",
          "output_type": "stream",
          "text": [
            "\r 77%|███████▋  | 23/30 [03:05<00:55,  7.91s/it]"
          ]
        },
        {
          "name": "stdout",
          "output_type": "stream",
          "text": [
            "[EPOCH : 23, Non-BPR Loss : 0.0620, BPR Train Loss: 0.0246]\n"
          ]
        },
        {
          "name": "stderr",
          "output_type": "stream",
          "text": [
            "\r 80%|████████  | 24/30 [03:12<00:45,  7.66s/it]"
          ]
        },
        {
          "name": "stdout",
          "output_type": "stream",
          "text": [
            "[EPOCH : 24, Non-BPR Loss : 0.0585, BPR Train Loss: 0.0235]\n"
          ]
        },
        {
          "name": "stderr",
          "output_type": "stream",
          "text": [
            "\r 83%|████████▎ | 25/30 [03:21<00:39,  7.81s/it]"
          ]
        },
        {
          "name": "stdout",
          "output_type": "stream",
          "text": [
            "[EPOCH : 25, Non-BPR Loss : 0.0550, BPR Train Loss: 0.0215]\n"
          ]
        },
        {
          "name": "stderr",
          "output_type": "stream",
          "text": [
            "\r 87%|████████▋ | 26/30 [03:28<00:31,  7.78s/it]"
          ]
        },
        {
          "name": "stdout",
          "output_type": "stream",
          "text": [
            "[EPOCH : 26, Non-BPR Loss : 0.0510, BPR Train Loss: 0.0197]\n"
          ]
        },
        {
          "name": "stderr",
          "output_type": "stream",
          "text": [
            "\r 90%|█████████ | 27/30 [03:38<00:24,  8.32s/it]"
          ]
        },
        {
          "name": "stdout",
          "output_type": "stream",
          "text": [
            "[EPOCH : 27, Non-BPR Loss : 0.0491, BPR Train Loss: 0.0193]\n"
          ]
        },
        {
          "name": "stderr",
          "output_type": "stream",
          "text": [
            "\r 93%|█████████▎| 28/30 [03:46<00:16,  8.31s/it]"
          ]
        },
        {
          "name": "stdout",
          "output_type": "stream",
          "text": [
            "[EPOCH : 28, Non-BPR Loss : 0.0462, BPR Train Loss: 0.0175]\n"
          ]
        },
        {
          "name": "stderr",
          "output_type": "stream",
          "text": [
            "\r 97%|█████████▋| 29/30 [03:54<00:08,  8.10s/it]"
          ]
        },
        {
          "name": "stdout",
          "output_type": "stream",
          "text": [
            "[EPOCH : 29, Non-BPR Loss : 0.0436, BPR Train Loss: 0.0169]\n"
          ]
        },
        {
          "name": "stderr",
          "output_type": "stream",
          "text": [
            "100%|██████████| 30/30 [04:02<00:00,  8.09s/it]"
          ]
        },
        {
          "name": "stdout",
          "output_type": "stream",
          "text": [
            "[EPOCH : 30, Non-BPR Loss : 0.0414, BPR Train Loss: 0.0153]\n"
          ]
        },
        {
          "name": "stderr",
          "output_type": "stream",
          "text": [
            "\n"
          ]
        }
      ],
      "source": [
        "non_bpr_model_loss_list = []\n",
        "non_bpr_model_recall_list = []\n",
        "non_bpr_model_ndcg_list = []\n",
        "\n",
        "bpr_model_loss_list = []\n",
        "bpr_model_recall_list = []\n",
        "bpr_model_ndcg_list = []\n",
        "\n",
        "for epoch in tqdm(range(config.epochs)):\n",
        "  model.train()\n",
        "  bpr_model.train()\n",
        "\n",
        "  train_loss = 0.0\n",
        "  bpr_train_loss = 0.0\n",
        "\n",
        "  for user, item, target in train_loader :\n",
        "    neg_user, neg_item = get_neg_samples(n = config.neg_samples, user_id_list = user.numpy().tolist())\n",
        "    neg_target = [0] * len(neg_item)\n",
        "\n",
        "    user, item, target = user.to(device), item.to(device), target.to(device).float()\n",
        "    neg_user, neg_item, neg_target = torch.tensor(neg_user).to(device), torch.tensor(neg_item).to(device), torch.tensor(neg_target).to(device).float()\n",
        "\n",
        "    all_user = torch.cat([user, torch.tensor(neg_user)])\n",
        "    all_item = torch.cat([item, torch.tensor(neg_item)])\n",
        "    all_target = torch.cat([target, torch.tensor(neg_target)])\n",
        "\n",
        "    optimizer.zero_grad()\n",
        "    output = model(all_user, all_item)\n",
        "    loss = loss_func(torch.sigmoid(output), all_target)\n",
        "    loss.backward()\n",
        "    optimizer.step()\n",
        "    train_loss += loss.item()\n",
        "\n",
        "    bpr_optimizer.zero_grad()\n",
        "    output = bpr_model(all_user, all_item)\n",
        "    pos_output, neg_output = torch.split(output, [len(user), len(neg_user)])\n",
        "    pos_output = torch.cat([pos_output.view(-1, 1), pos_output.view(-1, 1), pos_output.view(-1, 1)], dim = 1).view(-1)\n",
        "\n",
        "    loss = bpr_loss_func(pos_output, neg_output)\n",
        "    loss.backward()\n",
        "    bpr_optimizer.step()\n",
        "    bpr_train_loss += loss.item()\n",
        "\n",
        "  train_loss = train_loss / len(train_loader)\n",
        "  bpr_train_loss = bpr_train_loss / len(train_loader)\n",
        "\n",
        "  non_bpr_model_recall, non_bpr_model_ndcg = metrics(model = model, test_loader = test_loader, top_k = config.top_k)\n",
        "  bpr_model_recall, bpr_model_ndcg = metrics(model = bpr_model, test_loader = test_loader, top_k = config.top_k)\n",
        "\n",
        "  print(f\"[EPOCH : {epoch + 1}, Non-BPR Loss : {train_loss:.4f}, BPR Train Loss: {bpr_train_loss:.4f}]\")\n",
        "\n",
        "  non_bpr_model_loss_list.append(train_loss)\n",
        "  non_bpr_model_recall_list.append(non_bpr_model_recall)\n",
        "  non_bpr_model_ndcg_list.append(non_bpr_model_ndcg)\n",
        "\n",
        "  bpr_model_loss_list.append(bpr_train_loss)\n",
        "  bpr_model_recall_list.append(bpr_model_recall)\n",
        "  bpr_model_ndcg_list.append(bpr_model_ndcg)"
      ]
    },
    {
      "cell_type": "code",
      "execution_count": null,
      "metadata": {
        "id": "u5ZeNzUxCmNH"
      },
      "outputs": [],
      "source": [
        "import warnings\n",
        "warnings.filterwarnings(action = 'ignore')"
      ]
    },
    {
      "cell_type": "code",
      "execution_count": null,
      "metadata": {
        "colab": {
          "base_uri": "https://localhost:8080/",
          "height": 430
        },
        "id": "sf9b-WL0CmR8",
        "outputId": "516a9b98-ff5f-4e35-9d01-9890a4e1f081"
      },
      "outputs": [
        {
          "data": {
            "image/png": "[encoded data removed]",
            "text/plain": [
              "<Figure size 640x480 with 1 Axes>"
            ]
          },
          "metadata": {},
          "output_type": "display_data"
        }
      ],
      "source": [
        "import matplotlib.pyplot as plt\n",
        "\n",
        "epochs = [i+1 for i in range(config.epochs)]\n",
        "plt.plot(epochs, bpr_model_loss_list, label = 'BPR')\n",
        "plt.plot(epochs, non_bpr_model_loss_list, label = 'Non-BPR')\n",
        "plt.legend()\n",
        "plt.show()"
      ]
    },
    {
      "cell_type": "code",
      "execution_count": null,
      "metadata": {
        "id": "hiYWlIKyUcHj"
      },
      "outputs": [],
      "source": []
    }
  ],
  "metadata": {
    "colab": {
      "provenance": []
    },
    "kernelspec": {
      "display_name": "Python 3",
      "name": "python3"
    },
    "language_info": {
      "codemirror_mode": {
        "name": "ipython",
        "version": 3
      },
      "file_extension": ".py",
      "mimetype": "text/x-python",
      "name": "python",
      "nbconvert_exporter": "python",
      "pygments_lexer": "ipython3",
      "version": "3.12.2"
    }
  },
  "nbformat": 4,
  "nbformat_minor": 0
}
